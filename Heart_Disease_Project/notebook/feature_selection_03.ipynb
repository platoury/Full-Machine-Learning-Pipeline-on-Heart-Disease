{
  "nbformat": 4,
  "nbformat_minor": 0,
  "metadata": {
    "colab": {
      "provenance": []
    },
    "kernelspec": {
      "name": "python3",
      "display_name": "Python 3"
    },
    "language_info": {
      "name": "python"
    }
  },
  "cells": [
    {
      "cell_type": "markdown",
      "source": [
        "#Feature Selection\n",
        "In this section, we aim to identify the most relevant features for predicting heart disease. Feature selection helps improve model accuracy by reducing noise and dimensionality, which leads to faster training and better generalization.\n",
        "\n",
        "We will explore techniques to select key variables that contribute most to the prediction task, while eliminating redundant or irrelevant features.\n",
        "\n",
        "Load Dataset and Import Libraries for Feature Selection"
      ],
      "metadata": {
        "id": "1P0u4_l8uSZ-"
      }
    },
    {
      "cell_type": "code",
      "source": [
        "import pandas as pd\n",
        "import numpy as np\n",
        "from sklearn.preprocessing import StandardScaler\n",
        "from sklearn.ensemble import RandomForestClassifier\n",
        "from sklearn.feature_selection import RFE, SelectKBest, chi2\n",
        "from sklearn.linear_model import LogisticRegression\n",
        "from sklearn.feature_selection import SelectKBest, f_classif\n",
        "import matplotlib.pyplot as plt\n",
        "\n",
        "df = pd.read_csv('/content/processed_heart.csv')"
      ],
      "metadata": {
        "id": "dpPcNxf9uVr6"
      },
      "execution_count": null,
      "outputs": []
    },
    {
      "cell_type": "markdown",
      "source": [
        "#Feature Importance Using Random Forest\n",
        "In this step, we separate the features (X) from the target variable (y). We scale the features using StandardScaler to normalize the data before fitting the model. Then, we train a RandomForestClassifier and extract feature importances to understand which features contribute most to the prediction. Finally, we visualize the feature importances using a bar plot."
      ],
      "metadata": {
        "id": "zr2LSSNwujXJ"
      }
    },
    {
      "cell_type": "code",
      "source": [
        "X = df.drop('13', axis=1)\n",
        "y = df['13']\n",
        "\n",
        "scaler = StandardScaler()\n",
        "X_scaled = scaler.fit_transform(X)\n",
        "\n",
        "model = RandomForestClassifier()\n",
        "model.fit(X_scaled, y)\n",
        "\n",
        "importances = model.feature_importances_\n",
        "indices = np.argsort(importances)[::-1]\n",
        "\n",
        "plt.figure(figsize=(10,6))\n",
        "plt.title(\"Feature Importances - Random Forest\")\n",
        "plt.bar(range(X_scaled.shape[1]), importances[indices], align=\"center\")\n",
        "plt.xticks(range(X_scaled.shape[1]), X.columns[indices], rotation=90)\n",
        "plt.tight_layout()\n",
        "plt.show()"
      ],
      "metadata": {
        "colab": {
          "base_uri": "https://localhost:8080/",
          "height": 556
        },
        "id": "1jFGN8E9ulXe",
        "outputId": "7d7beca1-914b-455a-e622-f0941720714d"
      },
      "execution_count": null,
      "outputs": [
        {
          "output_type": "display_data",
          "data": {
            "text/plain": [
              "<Figure size 1000x600 with 1 Axes>"
            ],
            "image/png": "[encoded data removed]"
          },
          "metadata": {}
        }
      ]
    },
    {
      "cell_type": "markdown",
      "source": [
        "Print Feature Importances in Order"
      ],
      "metadata": {
        "id": "YQU51850_tBi"
      }
    },
    {
      "cell_type": "code",
      "source": [
        "for i in indices:\n",
        "    print(f\"{X.columns[i]}: {importances[i]:.4f}\")"
      ],
      "metadata": {
        "colab": {
          "base_uri": "https://localhost:8080/"
        },
        "id": "ItA8DM-w_uX5",
        "outputId": "b24bb5d9-5cc2-497a-e391-383864ff6012"
      },
      "execution_count": null,
      "outputs": [
        {
          "output_type": "stream",
          "name": "stdout",
          "text": [
            "7: 0.1371\n",
            "9: 0.1217\n",
            "4: 0.1171\n",
            "0: 0.1098\n",
            "3: 0.0987\n",
            "11: 0.0980\n",
            "12: 0.0803\n",
            "2: 0.0754\n",
            "8: 0.0449\n",
            "10: 0.0397\n",
            "1: 0.0293\n",
            "6: 0.0276\n",
            "5: 0.0205\n"
          ]
        }
      ]
    },
    {
      "cell_type": "markdown",
      "source": [
        "#Feature Selection Using Recursive Feature Elimination (RFE)\n",
        "This code applies Recursive Feature Elimination (RFE) with a Logistic Regression model to select the top 7 most important features. RFE works by recursively removing less important features and building the model repeatedly until the desired number of features is reached. The selected features are then printed out."
      ],
      "metadata": {
        "id": "yzSXyuD1_xlI"
      }
    },
    {
      "cell_type": "code",
      "source": [
        "model = LogisticRegression(max_iter=5000)\n",
        "rfe = RFE(model, n_features_to_select=7)\n",
        "fit = rfe.fit(X_scaled, y)\n",
        "\n",
        "print(\"RFE Selected Features:\")\n",
        "for i in range(len(fit.support_)):\n",
        "    if fit.support_[i]:\n",
        "        print(X.columns[i])"
      ],
      "metadata": {
        "colab": {
          "base_uri": "https://localhost:8080/"
        },
        "id": "9ytp_e9r_0PY",
        "outputId": "d56c7d92-3a0c-4d7a-9d6b-b950e6c5f1d9"
      },
      "execution_count": null,
      "outputs": [
        {
          "output_type": "stream",
          "name": "stdout",
          "text": [
            "RFE Selected Features:\n",
            "2\n",
            "6\n",
            "7\n",
            "9\n",
            "10\n",
            "11\n",
            "12\n"
          ]
        }
      ]
    },
    {
      "cell_type": "markdown",
      "source": [
        "#Feature Selection Using ANOVA F-test (SelectKBest)\n",
        "This code uses the ANOVA F-test to select the top 7 features that have the strongest relationship with the target variable. The SelectKBest method ranks features based on their ANOVA F-scores, which measure how well each feature discriminates between the classes. The selected features are then printed"
      ],
      "metadata": {
        "id": "n-y3s1_T_4S5"
      }
    },
    {
      "cell_type": "code",
      "source": [
        "f_selector = SelectKBest(f_classif, k=7)\n",
        "X_kbest = f_selector.fit_transform(X, y)\n",
        "mask = f_selector.get_support()\n",
        "selected_features = X.columns[mask]\n",
        "print(\"ANOVA F-test Selected Features:\", selected_features)"
      ],
      "metadata": {
        "colab": {
          "base_uri": "https://localhost:8080/"
        },
        "id": "CWVqr3y5_6T5",
        "outputId": "a07386f7-834b-4808-b997-f0f0a78f4e70"
      },
      "execution_count": null,
      "outputs": [
        {
          "output_type": "stream",
          "name": "stdout",
          "text": [
            "ANOVA F-test Selected Features: Index(['2', '7', '8', '9', '10', '11', '12'], dtype='object')\n"
          ]
        }
      ]
    },
    {
      "cell_type": "markdown",
      "source": [
        "#Creating a New Dataset with Selected Features\n",
        "After selecting the important features using the ANOVA F-test, this code creates a new DataFrame that contains only these selected features plus the target variable. This reduced dataset can be used for further analysis or modeling."
      ],
      "metadata": {
        "id": "ps6TeHyi_-4J"
      }
    },
    {
      "cell_type": "code",
      "source": [
        "X_selected = X[selected_features]\n",
        "df_selected = pd.concat([X_selected, y], axis=1)\n",
        "print(df_selected.head())"
      ],
      "metadata": {
        "colab": {
          "base_uri": "https://localhost:8080/"
        },
        "id": "6p-u6cc7AAQq",
        "outputId": "ae7a50fc-4590-4619-c7fd-3b55b71f5f7f"
      },
      "execution_count": null,
      "outputs": [
        {
          "output_type": "stream",
          "name": "stdout",
          "text": [
            "          2         7         8         9        10        11        12  13\n",
            "0 -2.251775  0.017197 -0.696631  1.087338  2.274579 -0.711131  0.660004   0\n",
            "1  0.877985 -1.821905  1.435481  0.397182  0.649113  2.504881 -0.890238   2\n",
            "2  0.877985 -0.902354  1.435481  1.346147  0.649113  1.432877  1.176752   1\n",
            "3 -0.165268  1.637359 -0.696631  2.122573  2.274579 -0.711131 -0.890238   0\n",
            "4 -1.208521  0.980537 -0.696631  0.310912 -0.976352 -0.711131 -0.890238   0\n"
          ]
        }
      ]
    },
    {
      "cell_type": "markdown",
      "source": [
        "#Saving the Selected Features Dataset\n",
        "This line saves the new dataset with the selected features and target variable into a CSV file. This makes it easy to reuse the cleaned and feature-selected data later without repeating the selection process."
      ],
      "metadata": {
        "id": "hMzzYlr0AFAp"
      }
    },
    {
      "cell_type": "code",
      "source": [
        "from google.colab import files\n",
        "\n",
        "df_selected.to_csv('selected_features.csv', index=False)\n",
        "\n",
        "files.download('selected_features.csv')"
      ],
      "metadata": {
        "colab": {
          "base_uri": "https://localhost:8080/",
          "height": 17
        },
        "id": "VJQN19J-AG95",
        "outputId": "7b117466-caa6-4c7f-e910-2a8e29bb30a7"
      },
      "execution_count": null,
      "outputs": [
        {
          "output_type": "display_data",
          "data": {
            "text/plain": [
              "<IPython.core.display.Javascript object>"
            ],
            "application/javascript": [
              "\n",
              "    async function download(id, filename, size) {\n",
              "      if (!google.colab.kernel.accessAllowed) {\n",
              "        return;\n",
              "      }\n",
              "      const div = document.createElement('div');\n",
              "      const label = document.createElement('label');\n",
              "      label.textContent = `Downloading \"${filename}\": `;\n",
              "      div.appendChild(label);\n",
              "      const progress = document.createElement('progress');\n",
              "      progress.max = size;\n",
              "      div.appendChild(progress);\n",
              "      document.body.appendChild(div);\n",
              "\n",
              "      const buffers = [];\n",
              "      let downloaded = 0;\n",
              "\n",
              "      const channel = await google.colab.kernel.comms.open(id);\n",
              "      // Send a message to notify the kernel that we're ready.\n",
              "      channel.send({})\n",
              "\n",
              "      for await (const message of channel.messages) {\n",
              "        // Send a message to notify the kernel that we're ready.\n",
              "        channel.send({})\n",
              "        if (message.buffers) {\n",
              "          for (const buffer of message.buffers) {\n",
              "            buffers.push(buffer);\n",
              "            downloaded += buffer.byteLength;\n",
              "            progress.value = downloaded;\n",
              "          }\n",
              "        }\n",
              "      }\n",
              "      const blob = new Blob(buffers, {type: 'application/binary'});\n",
              "      const a = document.createElement('a');\n",
              "      a.href = window.URL.createObjectURL(blob);\n",
              "      a.download = filename;\n",
              "      div.appendChild(a);\n",
              "      a.click();\n",
              "      div.remove();\n",
              "    }\n",
              "  "
            ]
          },
          "metadata": {}
        },
        {
          "output_type": "display_data",
          "data": {
            "text/plain": [
              "<IPython.core.display.Javascript object>"
            ],
            "application/javascript": [
              "download(\"download_e8bcd0d2-3e7f-49d3-a847-a9f541f9ac75\", \"selected_features.csv\", 41147)"
            ]
          },
          "metadata": {}
        }
      ]
    },
    {
      "cell_type": "markdown",
      "source": [
        "#Scaling the Selected Features\n",
        "In this step, we take the features selected previously and apply standard scaling to them. StandardScaler transforms the data so that each feature has a mean of 0 and a standard deviation of 1, which is important for many machine learning algorithms.\n",
        "\n",
        "We then combine the scaled features with the target variable into a new DataFrame for further use or modeling."
      ],
      "metadata": {
        "id": "VhnvJkTaAhDj"
      }
    },
    {
      "cell_type": "code",
      "source": [
        "import pandas as pd\n",
        "from sklearn.preprocessing import StandardScaler\n",
        "from google.colab import files\n",
        "\n",
        "# --- Step 1: Load selected column indices ---\n",
        "selected_feature_indices = pd.read_csv('/content/selected_features.csv', header=None)[0].astype(int).tolist()\n",
        "\n",
        "# --- Step 2: Make sure indices are valid ---\n",
        "max_index = X.shape[1] - 1\n",
        "selected_feature_indices = [i for i in selected_feature_indices if i <= max_index]\n",
        "\n",
        "# --- Step 3: Select columns by position ---\n",
        "X_selected = X.iloc[:, selected_feature_indices]\n",
        "target = y\n",
        "\n",
        "# --- Step 4: Scale features ---\n",
        "scaler = StandardScaler()\n",
        "features_scaled = scaler.fit_transform(X_selected)\n",
        "features_scaled_df = pd.DataFrame(features_scaled, columns=X_selected.columns)\n",
        "\n",
        "# --- Step 5: Combine with target ---\n",
        "df_scaled = pd.concat([features_scaled_df, target.reset_index(drop=True)], axis=1)\n",
        "\n",
        "# --- Step 6: Save CSV and download ---\n",
        "df_scaled.to_csv('scaled_selected_features.csv', index=False)\n",
        "files.download('scaled_selected_features.csv')\n",
        "\n",
        "# --- Step 7: Quick check ---\n",
        "print(df_scaled.head())\n",
        "\n"
      ],
      "metadata": {
        "colab": {
          "base_uri": "https://localhost:8080/",
          "height": 121
        },
        "id": "WPtJH5UsB1HQ",
        "outputId": "ac42c389-ef67-44e4-e0cb-c46b7f0effd4"
      },
      "execution_count": null,
      "outputs": [
        {
          "output_type": "display_data",
          "data": {
            "text/plain": [
              "<IPython.core.display.Javascript object>"
            ],
            "application/javascript": [
              "\n",
              "    async function download(id, filename, size) {\n",
              "      if (!google.colab.kernel.accessAllowed) {\n",
              "        return;\n",
              "      }\n",
              "      const div = document.createElement('div');\n",
              "      const label = document.createElement('label');\n",
              "      label.textContent = `Downloading \"${filename}\": `;\n",
              "      div.appendChild(label);\n",
              "      const progress = document.createElement('progress');\n",
              "      progress.max = size;\n",
              "      div.appendChild(progress);\n",
              "      document.body.appendChild(div);\n",
              "\n",
              "      const buffers = [];\n",
              "      let downloaded = 0;\n",
              "\n",
              "      const channel = await google.colab.kernel.comms.open(id);\n",
              "      // Send a message to notify the kernel that we're ready.\n",
              "      channel.send({})\n",
              "\n",
              "      for await (const message of channel.messages) {\n",
              "        // Send a message to notify the kernel that we're ready.\n",
              "        channel.send({})\n",
              "        if (message.buffers) {\n",
              "          for (const buffer of message.buffers) {\n",
              "            buffers.push(buffer);\n",
              "            downloaded += buffer.byteLength;\n",
              "            progress.value = downloaded;\n",
              "          }\n",
              "        }\n",
              "      }\n",
              "      const blob = new Blob(buffers, {type: 'application/binary'});\n",
              "      const a = document.createElement('a');\n",
              "      a.href = window.URL.createObjectURL(blob);\n",
              "      a.download = filename;\n",
              "      div.appendChild(a);\n",
              "      a.click();\n",
              "      div.remove();\n",
              "    }\n",
              "  "
            ]
          },
          "metadata": {}
        },
        {
          "output_type": "display_data",
          "data": {
            "text/plain": [
              "<IPython.core.display.Javascript object>"
            ],
            "application/javascript": [
              "download(\"download_f0cee401-31f3-4c45-bc1c-fd7546e1b368\", \"scaled_selected_features.csv\", 41975)"
            ]
          },
          "metadata": {}
        },
        {
          "output_type": "stream",
          "name": "stdout",
          "text": [
            "          2         7         8         9        10        11        12  13\n",
            "0 -2.251775  0.017197 -0.696631  1.087338  2.274579 -0.711131  0.660004   0\n",
            "1  0.877985 -1.821905  1.435481  0.397182  0.649113  2.504881 -0.890238   2\n",
            "2  0.877985 -0.902354  1.435481  1.346147  0.649113  1.432877  1.176752   1\n",
            "3 -0.165268  1.637359 -0.696631  2.122573  2.274579 -0.711131 -0.890238   0\n",
            "4 -1.208521  0.980537 -0.696631  0.310912 -0.976352 -0.711131 -0.890238   0\n"
          ]
        }
      ]
    }
  ]
}