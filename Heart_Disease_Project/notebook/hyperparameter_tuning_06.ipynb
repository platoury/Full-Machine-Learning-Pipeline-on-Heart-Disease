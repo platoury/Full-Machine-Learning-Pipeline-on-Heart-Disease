{
  "nbformat": 4,
  "nbformat_minor": 0,
  "metadata": {
    "colab": {
      "provenance": []
    },
    "kernelspec": {
      "name": "python3",
      "display_name": "Python 3"
    },
    "language_info": {
      "name": "python"
    }
  },
  "cells": [
    {
      "cell_type": "markdown",
      "source": [
        "#Hyperparameter Tuning\n",
        "Hyperparameter tuning is the process of optimizing the parameters of a machine learning model that are not learned from the data but set prior to training. These parameters greatly affect the model's performance and generalization ability.\n",
        "\n",
        "In this section, we use techniques such as Grid Search Cross-Validation to systematically search for the best combination of hyperparameters for models like Decision Trees and Random Forests. This helps improve prediction accuracy and model robustness.\n",
        "\n",
        "Load Data and Prepare for Modeling\n",
        "In this step, we:\n",
        "\n",
        "Load the preprocessed and scaled dataset from a CSV file.\n",
        "\n",
        "Separate the features (X) from the target variable (y).\n",
        "\n",
        "Prepare the data for further modeling and hyperparameter tuning.\n",
        "\n",
        "This sets up the data so that machine learning models can be trained and evaluated efficiently."
      ],
      "metadata": {
        "id": "xsSii0otF0ZM"
      }
    },
    {
      "cell_type": "code",
      "source": [
        "import pandas as pd\n",
        "import numpy as np\n",
        "from sklearn.model_selection import train_test_split, GridSearchCV\n",
        "from sklearn.preprocessing import StandardScaler\n",
        "from sklearn.linear_model import LogisticRegression\n",
        "from sklearn.tree import DecisionTreeClassifier\n",
        "from sklearn.ensemble import RandomForestClassifier\n",
        "from sklearn.svm import SVC\n",
        "\n",
        "df = pd.read_csv('/content/scaled_selected_features.csv')\n",
        "\n",
        "X = df.drop('13', axis=1)\n",
        "y = df['13']"
      ],
      "metadata": {
        "id": "m70rX8HuF5yb"
      },
      "execution_count": null,
      "outputs": []
    },
    {
      "cell_type": "markdown",
      "source": [
        "Hyperparameter Tuning for Logistic Regression\n",
        "In this step, we:\n",
        "\n",
        "Split the dataset into training and testing sets.\n",
        "\n",
        "Scale the features using StandardScaler for better model performance.\n",
        "\n",
        "Define a parameter grid to tune the regularization strength C and the solver method.\n",
        "\n",
        "Use GridSearchCV with 5-fold cross-validation to find the best hyperparameters for Logistic Regression.\n",
        "\n",
        "Print out the best parameters and the best cross-validation accuracy score.\n",
        "\n",
        "This process helps us find the most effective model settings to improve prediction accuracy."
      ],
      "metadata": {
        "id": "fcbQY2VQGJcn"
      }
    },
    {
      "cell_type": "code",
      "source": [
        "X_train, X_test, y_train, y_test = train_test_split(\n",
        "    X, y, test_size=0.2, random_state=42\n",
        ")\n",
        "\n",
        "scaler = StandardScaler()\n",
        "X_train = scaler.fit_transform(X_train)\n",
        "X_test = scaler.transform(X_test)\n",
        "\n",
        "\n",
        "param_grid_lr = {\n",
        "    'C': [0.01, 0.1, 1, 10],\n",
        "    'solver': ['lbfgs']\n",
        "}\n",
        "\n",
        "grid_lr = GridSearchCV(LogisticRegression(), param_grid_lr, cv=5, scoring='accuracy')\n",
        "grid_lr.fit(X_train, y_train)\n",
        "\n",
        "print(\"🔶 Logistic Regression Best Parameters:\", grid_lr.best_params_)\n",
        "print(\"🔶 Logistic Regression Best CV Score:\", grid_lr.best_score_)"
      ],
      "metadata": {
        "colab": {
          "base_uri": "https://localhost:8080/"
        },
        "id": "hsfOcQXDGKJl",
        "outputId": "54abdc0c-4fd7-4394-9379-ddedcd81ae94"
      },
      "execution_count": null,
      "outputs": [
        {
          "output_type": "stream",
          "name": "stdout",
          "text": [
            "🔶 Logistic Regression Best Parameters: {'C': 1, 'solver': 'lbfgs'}\n",
            "🔶 Logistic Regression Best CV Score: 0.6073129251700681\n"
          ]
        }
      ]
    },
    {
      "cell_type": "markdown",
      "source": [
        "Hyperparameter Tuning for Decision Tree Classifier\n",
        "In this step, we:\n",
        "\n",
        "Define a parameter grid to tune the decision tree’s maximum depth and the minimum number of samples required to split a node.\n",
        "\n",
        "Use GridSearchCV with 5-fold cross-validation to search for the best combination of hyperparameters.\n",
        "\n",
        "Fit the model on the training data and evaluate each parameter set.\n",
        "\n",
        "Print the best parameters found and the corresponding cross-validation accuracy score.\n",
        "\n",
        "This tuning improves the model's generalization and prevents overfitting or underfitting."
      ],
      "metadata": {
        "id": "BK0Z-mXKGN4V"
      }
    },
    {
      "cell_type": "code",
      "source": [
        "param_grid_dt = {\n",
        "    'max_depth': [None, 5, 10, 20],\n",
        "    'min_samples_split': [2, 5, 10]\n",
        "}\n",
        "\n",
        "grid_dt = GridSearchCV(DecisionTreeClassifier(), param_grid_dt, cv=5, scoring='accuracy')\n",
        "grid_dt.fit(X_train, y_train)\n",
        "\n",
        "print(\"🔶 Decision Tree Best Parameters:\", grid_dt.best_params_)\n",
        "print(\"🔶 Decision Tree Best CV Score:\", grid_dt.best_score_)"
      ],
      "metadata": {
        "colab": {
          "base_uri": "https://localhost:8080/"
        },
        "id": "QTUemRmSGRgl",
        "outputId": "2ebae6ef-17e7-4d76-c5ce-404a0a596797"
      },
      "execution_count": null,
      "outputs": [
        {
          "output_type": "stream",
          "name": "stdout",
          "text": [
            "🔶 Decision Tree Best Parameters: {'max_depth': 5, 'min_samples_split': 5}\n",
            "🔶 Decision Tree Best CV Score: 0.5699829931972789\n"
          ]
        }
      ]
    },
    {
      "cell_type": "markdown",
      "source": [
        "Hyperparameter Tuning for Random Forest Classifier\n",
        "In this step, we:\n",
        "\n",
        "Define a grid of hyperparameters to tune:\n",
        "\n",
        "Number of trees (n_estimators)\n",
        "\n",
        "Maximum depth of each tree (max_depth)\n",
        "\n",
        "Minimum number of samples required to split a node (min_samples_split)\n",
        "\n",
        "Use GridSearchCV with 5-fold cross-validation to exhaustively search for the best combination.\n",
        "\n",
        "Fit the random forest model on the training data for each hyperparameter combination.\n",
        "\n",
        "Output the best hyperparameters and their corresponding mean cross-validation accuracy.\n",
        "\n",
        "This process helps improve the model's predictive performance by selecting optimal parameter values."
      ],
      "metadata": {
        "id": "X3f72zfKGVXu"
      }
    },
    {
      "cell_type": "code",
      "source": [
        "param_grid_rf = {\n",
        "    'n_estimators': [100, 200],\n",
        "    'max_depth': [None, 10, 20],\n",
        "    'min_samples_split': [2, 5]\n",
        "}\n",
        "\n",
        "grid_rf = GridSearchCV(RandomForestClassifier(), param_grid_rf, cv=5, scoring='accuracy')\n",
        "grid_rf.fit(X_train, y_train)\n",
        "\n",
        "print(\"🔶 Random Forest Best Parameters:\", grid_rf.best_params_)\n",
        "print(\"🔶 Random Forest Best CV Score:\", grid_rf.best_score_)"
      ],
      "metadata": {
        "colab": {
          "base_uri": "https://localhost:8080/"
        },
        "id": "siyESYKjGWON",
        "outputId": "a6cc678f-00b5-41e4-d34f-9a74332208da"
      },
      "execution_count": null,
      "outputs": [
        {
          "output_type": "stream",
          "name": "stdout",
          "text": [
            "🔶 Random Forest Best Parameters: {'max_depth': 10, 'min_samples_split': 2, 'n_estimators': 100}\n",
            "🔶 Random Forest Best CV Score: 0.6279761904761905\n"
          ]
        }
      ]
    },
    {
      "cell_type": "markdown",
      "source": [
        "Hyperparameter Tuning for Support Vector Machine (SVM)\n",
        "In this section, we:\n",
        "\n",
        "Define a grid of hyperparameters to tune:\n",
        "\n",
        "Regularization parameter C controls the trade-off between achieving a low training error and a low testing error.\n",
        "\n",
        "Kernel type, choosing between 'linear' and 'rbf' (Radial Basis Function), which affects how the data is transformed.\n",
        "\n",
        "Use GridSearchCV with 5-fold cross-validation to test all combinations of these parameters.\n",
        "\n",
        "Fit the SVM model on the training data with each parameter combination.\n",
        "\n",
        "Print out the best hyperparameters found and the corresponding cross-validation accuracy score.\n",
        "\n",
        "This tuning helps optimize the SVM’s ability to classify the data effectively."
      ],
      "metadata": {
        "id": "tWeeYdWaGYbN"
      }
    },
    {
      "cell_type": "code",
      "source": [
        "param_grid_svm = {\n",
        "    'C': [0.1, 1, 10],\n",
        "    'kernel': ['linear', 'rbf']\n",
        "}\n",
        "\n",
        "grid_svm = GridSearchCV(SVC(), param_grid_svm, cv=5, scoring='accuracy')\n",
        "grid_svm.fit(X_train, y_train)\n",
        "\n",
        "print(\"🔶 SVM Best Parameters:\", grid_svm.best_params_)\n",
        "print(\"🔶 SVM Best CV Score:\", grid_svm.best_score_)"
      ],
      "metadata": {
        "colab": {
          "base_uri": "https://localhost:8080/"
        },
        "id": "AwZeZDNsGaQm",
        "outputId": "cf1b177e-4af2-47c9-b580-fe5d5051ee9d"
      },
      "execution_count": null,
      "outputs": [
        {
          "output_type": "stream",
          "name": "stdout",
          "text": [
            "🔶 SVM Best Parameters: {'C': 1, 'kernel': 'rbf'}\n",
            "🔶 SVM Best CV Score: 0.6201530612244898\n"
          ]
        }
      ]
    },
    {
      "cell_type": "markdown",
      "source": [
        "Summary of Best Models and Their Performance\n",
        "This code prints a concise summary of the best hyperparameters and cross-validation accuracy scores found for each of the four classification models:\n",
        "\n",
        "Logistic Regression\n",
        "\n",
        "Decision Tree\n",
        "\n",
        "Random Forest\n",
        "\n",
        "Support Vector Machine (SVM)\n",
        "\n",
        "It helps quickly compare which model and parameter settings performed best during tuning."
      ],
      "metadata": {
        "id": "aQhfLcvcGcDP"
      }
    },
    {
      "cell_type": "code",
      "source": [
        "print(\"\\n✅ Summary of Best Models:\")\n",
        "print(\"Logistic Regression:\", grid_lr.best_params_, \" | Accuracy:\", grid_lr.best_score_)\n",
        "print(\"Decision Tree:\", grid_dt.best_params_, \" | Accuracy:\", grid_dt.best_score_)\n",
        "print(\"Random Forest:\", grid_rf.best_params_, \" | Accuracy:\", grid_rf.best_score_)\n",
        "print(\"SVM:\", grid_svm.best_params_, \" | Accuracy:\", grid_svm.best_score_)"
      ],
      "metadata": {
        "colab": {
          "base_uri": "https://localhost:8080/"
        },
        "id": "yG8iBRGeGfMu",
        "outputId": "314beb01-30bc-4a2c-8c56-6bc2a5330f36"
      },
      "execution_count": null,
      "outputs": [
        {
          "output_type": "stream",
          "name": "stdout",
          "text": [
            "\n",
            "✅ Summary of Best Models:\n",
            "Logistic Regression: {'C': 1, 'solver': 'lbfgs'}  | Accuracy: 0.6073129251700681\n",
            "Decision Tree: {'max_depth': 5, 'min_samples_split': 5}  | Accuracy: 0.5699829931972789\n",
            "Random Forest: {'max_depth': 10, 'min_samples_split': 2, 'n_estimators': 100}  | Accuracy: 0.6279761904761905\n",
            "SVM: {'C': 1, 'kernel': 'rbf'}  | Accuracy: 0.6201530612244898\n"
          ]
        }
      ]
    }
  ]
}